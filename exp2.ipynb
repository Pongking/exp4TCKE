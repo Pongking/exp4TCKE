{
 "cells": [
  {
   "cell_type": "code",
   "execution_count": 1,
   "id": "c85425f0-30ce-491e-a96f-546d83c56763",
   "metadata": {},
   "outputs": [],
   "source": [
    "import pandas as pd"
   ]
  },
  {
   "cell_type": "code",
   "execution_count": 2,
   "id": "7c140884-7733-4eb9-b2c1-f90534802d68",
   "metadata": {},
   "outputs": [],
   "source": [
    "train=pd.read_csv('./datasets/train.csv',encoding_errors='ignore')\n",
    "test=pd.read_csv('./datasets/test.csv',encoding_errors='ignore')"
   ]
  },
  {
   "cell_type": "code",
   "execution_count": 3,
   "id": "820e1ade-a3b3-4927-9b8a-f21e1b3dafed",
   "metadata": {},
   "outputs": [
    {
     "data": {
      "text/html": [
       "<div>\n",
       "<style scoped>\n",
       "    .dataframe tbody tr th:only-of-type {\n",
       "        vertical-align: middle;\n",
       "    }\n",
       "\n",
       "    .dataframe tbody tr th {\n",
       "        vertical-align: top;\n",
       "    }\n",
       "\n",
       "    .dataframe thead th {\n",
       "        text-align: right;\n",
       "    }\n",
       "</style>\n",
       "<table border=\"1\" class=\"dataframe\">\n",
       "  <thead>\n",
       "    <tr style=\"text-align: right;\">\n",
       "      <th></th>\n",
       "      <th>uuid</th>\n",
       "      <th>title</th>\n",
       "      <th>author</th>\n",
       "      <th>abstract</th>\n",
       "      <th>Keywords</th>\n",
       "      <th>label</th>\n",
       "    </tr>\n",
       "  </thead>\n",
       "  <tbody>\n",
       "    <tr>\n",
       "      <th>0</th>\n",
       "      <td>0</td>\n",
       "      <td>Accessible Visual Artworks for Blind and Visua...</td>\n",
       "      <td>Quero, Luis Cavazos; Bartolome, Jorge Iranzo; ...</td>\n",
       "      <td>Despite the use of tactile graphics and audio ...</td>\n",
       "      <td>accessibility technology; multimodal interacti...</td>\n",
       "      <td>0</td>\n",
       "    </tr>\n",
       "    <tr>\n",
       "      <th>1</th>\n",
       "      <td>1</td>\n",
       "      <td>Seizure Detection and Prediction by Parallel M...</td>\n",
       "      <td>Li, Chenqi; Lammie, Corey; Dong, Xuening; Amir...</td>\n",
       "      <td>During the past two decades, epileptic seizure...</td>\n",
       "      <td>CNN; Seizure Detection; Seizure Prediction; EE...</td>\n",
       "      <td>1</td>\n",
       "    </tr>\n",
       "    <tr>\n",
       "      <th>2</th>\n",
       "      <td>2</td>\n",
       "      <td>Fast ScanNet: Fast and Dense Analysis of Multi...</td>\n",
       "      <td>Lin, Huangjing; Chen, Hao; Graham, Simon; Dou,...</td>\n",
       "      <td>Lymph node metastasis is one of the most impor...</td>\n",
       "      <td>Histopathology image analysis; computational p...</td>\n",
       "      <td>1</td>\n",
       "    </tr>\n",
       "    <tr>\n",
       "      <th>3</th>\n",
       "      <td>3</td>\n",
       "      <td>Long-Term Effectiveness of Antiretroviral Ther...</td>\n",
       "      <td>Huang, Peng; Tan, Jingguang; Ma, Wenzhe; Zheng...</td>\n",
       "      <td>In order to assess the effectiveness of the Ch...</td>\n",
       "      <td>HIV; ART; mortality; observational cohort stud...</td>\n",
       "      <td>0</td>\n",
       "    </tr>\n",
       "    <tr>\n",
       "      <th>4</th>\n",
       "      <td>4</td>\n",
       "      <td>Real-Time Facial Affective Computing on Mobile...</td>\n",
       "      <td>Guo, Yuanyuan; Xia, Yifan; Wang, Jing; Yu, Hui...</td>\n",
       "      <td>Convolutional Neural Networks (CNNs) have beco...</td>\n",
       "      <td>facial affective computing; convolutional neur...</td>\n",
       "      <td>0</td>\n",
       "    </tr>\n",
       "  </tbody>\n",
       "</table>\n",
       "</div>"
      ],
      "text/plain": [
       "   uuid                                              title  \\\n",
       "0     0  Accessible Visual Artworks for Blind and Visua...   \n",
       "1     1  Seizure Detection and Prediction by Parallel M...   \n",
       "2     2  Fast ScanNet: Fast and Dense Analysis of Multi...   \n",
       "3     3  Long-Term Effectiveness of Antiretroviral Ther...   \n",
       "4     4  Real-Time Facial Affective Computing on Mobile...   \n",
       "\n",
       "                                              author  \\\n",
       "0  Quero, Luis Cavazos; Bartolome, Jorge Iranzo; ...   \n",
       "1  Li, Chenqi; Lammie, Corey; Dong, Xuening; Amir...   \n",
       "2  Lin, Huangjing; Chen, Hao; Graham, Simon; Dou,...   \n",
       "3  Huang, Peng; Tan, Jingguang; Ma, Wenzhe; Zheng...   \n",
       "4  Guo, Yuanyuan; Xia, Yifan; Wang, Jing; Yu, Hui...   \n",
       "\n",
       "                                            abstract  \\\n",
       "0  Despite the use of tactile graphics and audio ...   \n",
       "1  During the past two decades, epileptic seizure...   \n",
       "2  Lymph node metastasis is one of the most impor...   \n",
       "3  In order to assess the effectiveness of the Ch...   \n",
       "4  Convolutional Neural Networks (CNNs) have beco...   \n",
       "\n",
       "                                            Keywords  label  \n",
       "0  accessibility technology; multimodal interacti...      0  \n",
       "1  CNN; Seizure Detection; Seizure Prediction; EE...      1  \n",
       "2  Histopathology image analysis; computational p...      1  \n",
       "3  HIV; ART; mortality; observational cohort stud...      0  \n",
       "4  facial affective computing; convolutional neur...      0  "
      ]
     },
     "execution_count": 3,
     "metadata": {},
     "output_type": "execute_result"
    }
   ],
   "source": [
    "train[:5]"
   ]
  },
  {
   "cell_type": "code",
   "execution_count": 4,
   "id": "2c0780fa-84a0-4c4f-8a3d-bb09cb2d4407",
   "metadata": {},
   "outputs": [],
   "source": [
    "train['text']=train['title'].fillna('')+' '+train['author'].fillna('')+' '+train['abstract'].fillna('')+' '+train['Keywords'].fillna('')\n",
    "test['text']=test['title'].fillna('')+' '+test['author'].fillna('')+' '+test['abstract'].fillna('')+' '+test['Keywords'].fillna('')"
   ]
  },
  {
   "cell_type": "code",
   "execution_count": 5,
   "id": "1b49958a-332d-4089-95cc-49a9abdac334",
   "metadata": {},
   "outputs": [],
   "source": [
    "from sklearn.feature_extraction.text import CountVectorizer\n",
    "\n",
    "vec=CountVectorizer().fit(train['text'])\n",
    "train_vec=vec.transform(train['text'])\n",
    "test_vec=vec.transform(test['text'])"
   ]
  },
  {
   "cell_type": "code",
   "execution_count": 31,
   "id": "91810384-fa3d-44ff-8987-74ffbc689738",
   "metadata": {},
   "outputs": [
    {
     "name": "stdout",
     "output_type": "stream",
     "text": [
      "Looking in indexes: https://mirrors.cernet.edu.cn/pypi/web/simple\n",
      "Requirement already satisfied: nltk in /root/anaconda3/envs/Datawhale/lib/python3.10/site-packages (3.8.1)\n",
      "Requirement already satisfied: click in /root/anaconda3/envs/Datawhale/lib/python3.10/site-packages (from nltk) (8.1.6)\n",
      "Requirement already satisfied: joblib in /root/anaconda3/envs/Datawhale/lib/python3.10/site-packages (from nltk) (1.3.1)\n",
      "Requirement already satisfied: regex>=2021.8.3 in /root/anaconda3/envs/Datawhale/lib/python3.10/site-packages (from nltk) (2023.6.3)\n",
      "Requirement already satisfied: tqdm in /root/anaconda3/envs/Datawhale/lib/python3.10/site-packages (from nltk) (4.65.0)\n",
      "\u001b[33mWARNING: Running pip as the 'root' user can result in broken permissions and conflicting behaviour with the system package manager. It is recommended to use a virtual environment instead: https://pip.pypa.io/warnings/venv\u001b[0m\u001b[33m\n",
      "\u001b[0m"
     ]
    }
   ],
   "source": [
    "!pip install nltk"
   ]
  },
  {
   "cell_type": "code",
   "execution_count": 6,
   "id": "15d713d1-246b-4b98-8e92-847d267ff47f",
   "metadata": {},
   "outputs": [],
   "source": [
    "from nltk import word_tokenize,ngrams\n",
    "#引入分词器\n"
   ]
  },
  {
   "cell_type": "code",
   "execution_count": 7,
   "id": "f6949e1a-5f9d-4a45-9ac6-0eea1909405e",
   "metadata": {},
   "outputs": [],
   "source": [
    "#停用词去除\n",
    "\n",
    "stops = [\n",
    "    'will', 'can', \"couldn't\", 'same', 'own', \"needn't\", 'between', \"shan't\", 'very',\n",
    "     'so', 'over', 'in', 'have', 'the', 's', 'didn', 'few', 'should', 'of', 'that', \n",
    "     'don', 'weren', 'into', \"mustn't\", 'other', 'from', \"she's\", 'hasn', \"you're\",\n",
    "     'ain', 'ours', 'them', 'he', 'hers', 'up', 'below', 'won', 'out', 'through',\n",
    "     'than', 'this', 'who', \"you've\", 'on', 'how', 'more', 'being', 'any', 'no',\n",
    "     'mightn', 'for', 'again', 'nor', 'there', 'him', 'was', 'y', 'too', 'now',\n",
    "     'whom', 'an', 've', 'or', 'itself', 'is', 'all', \"hasn't\", 'been', 'themselves',\n",
    "     'wouldn', 'its', 'had', \"should've\", 'it', \"you'll\", 'are', 'be', 'when', \"hadn't\",\n",
    "     \"that'll\", 'what', 'while', 'above', 'such', 'we', 't', 'my', 'd', 'i', 'me',\n",
    "     'at', 'after', 'am', 'against', 'further', 'just', 'isn', 'haven', 'down',\n",
    "     \"isn't\", \"wouldn't\", 'some', \"didn't\", 'ourselves', 'their', 'theirs', 'both',\n",
    "     're', 'her', 'ma', 'before', \"don't\", 'having', 'where', 'shouldn', 'under',\n",
    "     'if', 'as', 'myself', 'needn', 'these', 'you', 'with', 'yourself', 'those',\n",
    "     'each', 'herself', 'off', 'to', 'not', 'm', \"it's\", 'does', \"weren't\", \"aren't\",\n",
    "     'were', 'aren', 'by', 'doesn', 'himself', 'wasn', \"you'd\", 'once', 'because', 'yours',\n",
    "     'has', \"mightn't\", 'they', 'll', \"haven't\", 'but', 'couldn', 'a', 'do', 'hadn',\n",
    "     \"doesn't\", 'your', 'she', 'yourselves', 'o', 'our', 'here', 'and', 'his', 'most',\n",
    "     'about', 'shan', \"wasn't\", 'then', 'only', 'mustn', 'doing', 'during', 'why',\n",
    "     \"won't\", 'until', 'did', \"shouldn't\", 'which'\n",
    "]"
   ]
  },
  {
   "cell_type": "code",
   "execution_count": 16,
   "id": "20a85024-2a4d-40be-ba5e-ad2918555c13",
   "metadata": {},
   "outputs": [],
   "source": [
    "def extract_keyword_by_freq(title,abstract):\n",
    "    # 通过标题和摘要提取关键词\n",
    "    #print(title.lower())\n",
    "    #print(abstract.lower())\n",
    "    #全转为小写\n",
    "    ngrams_count=list(ngrams(word_tokenize(title.lower()),2))+list(ngrams(word_tokenize(abstract.lower()),2))\n",
    "    #print(ngrams_count)\n",
    "    #print(\"-----------\")\n",
    "    ngrams_count=pd.DataFrame(ngrams_count)\n",
    "    #print(ngrams_count)\n",
    "    #print(\"-----------\")\n",
    "    #去除存在于停用表中的二元组\n",
    "    ngrams_count=ngrams_count[~ngrams_count[0].isin(stops)]\n",
    "    ngrams_count=ngrams_count[~ngrams_count[1].isin(stops)]\n",
    "    ngrams_count=ngrams_count[ngrams_count[0].apply(len) >3]\n",
    "    ngrams_count=ngrams_count[ngrams_count[1].apply(len) >3]\n",
    "    ngrams_count['phrase']=ngrams_count[0]+' '+ngrams_count[1]\n",
    "    ngrams_count=ngrams_count['phrase'].value_counts()\n",
    "    #计算每个二元组的出现频率\n",
    "    #print(ngrams_count)\n",
    "    #print(\"------------\")\n",
    "    ngrams_count=ngrams_count[ngrams_count>1]\n",
    "    return list(ngrams_count.index)[:5]"
   ]
  },
  {
   "cell_type": "code",
   "execution_count": 22,
   "id": "01d59b1e-5962-4a5b-9c83-8c893db8b854",
   "metadata": {},
   "outputs": [],
   "source": [
    "train['abstract']=train['abstract'].fillna('')\n",
    "train['title']=train['title'].fillna('')\n",
    "test['abstract']=test['abstract'].fillna('')\n",
    "test['title']=test['title'].fillna('')\n"
   ]
  },
  {
   "cell_type": "code",
   "execution_count": 27,
   "id": "190b64a0-2c5e-4f35-b681-529696ac53ae",
   "metadata": {},
   "outputs": [],
   "source": [
    "from sklearn.linear_model import LogisticRegression\n",
    "# 过滤警告消息\n",
    "from warnings import simplefilter\n",
    "from sklearn.exceptions import ConvergenceWarning\n",
    "simplefilter(\"ignore\", category=ConvergenceWarning)\n",
    "\n",
    "md=LogisticRegression()\n",
    "md.fit(train_vec,train['label'])\n",
    "test['label']=md.predict(test_vec)"
   ]
  },
  {
   "cell_type": "code",
   "execution_count": 24,
   "id": "f6c4df94-9ab1-4358-b0f5-ca05db05393e",
   "metadata": {},
   "outputs": [
    {
     "name": "stderr",
     "output_type": "stream",
     "text": [
      "[nltk_data] Downloading package punkt to /root/nltk_data...\n",
      "[nltk_data]   Package punkt is already up-to-date!\n"
     ]
    }
   ],
   "source": [
    "import nltk\n",
    "nltk.download('punkt')"
   ]
  },
  {
   "cell_type": "code",
   "execution_count": 29,
   "id": "cf9872d9-e1d7-4f76-a378-0317f4796d54",
   "metadata": {},
   "outputs": [],
   "source": [
    "test_words=[]"
   ]
  },
  {
   "cell_type": "code",
   "execution_count": 30,
   "id": "bae7d28f-8c0f-43c2-bc13-05afcfb2ee02",
   "metadata": {},
   "outputs": [],
   "source": [
    "for row in test.iterrows():\n",
    "    prediction_keywords=extract_keyword_by_freq(row[1].title,row[1].abstract)\n",
    "    prediction_keywords=[x.title() for x in prediction_keywords]#首字母转为大写\n",
    "    if len(prediction_keywords)==0:\n",
    "        prediction_keywords=['A','B']\n",
    "    test_words.append(';'.join(prediction_keywords))\n",
    "test['Keywords']=test_words\n",
    "test[['uuid','Keywords','label']].to_csv('submit_task2.csv',index=None)"
   ]
  },
  {
   "cell_type": "code",
   "execution_count": null,
   "id": "499c52ad-a30c-48da-aa78-d58f5ab79e6a",
   "metadata": {},
   "outputs": [],
   "source": []
  }
 ],
 "metadata": {
  "kernelspec": {
   "display_name": "Python 3 (ipykernel)",
   "language": "python",
   "name": "python3"
  },
  "language_info": {
   "codemirror_mode": {
    "name": "ipython",
    "version": 3
   },
   "file_extension": ".py",
   "mimetype": "text/x-python",
   "name": "python",
   "nbconvert_exporter": "python",
   "pygments_lexer": "ipython3",
   "version": "3.10.12"
  }
 },
 "nbformat": 4,
 "nbformat_minor": 5
}
