{
 "cells": [
  {
   "cell_type": "code",
   "execution_count": 2,
   "id": "e9558b5d-8dea-4841-86ea-82511a2524a6",
   "metadata": {},
   "outputs": [],
   "source": [
    "import pandas as pd"
   ]
  },
  {
   "cell_type": "code",
   "execution_count": 3,
   "id": "e6605dbc-d3b0-4446-b048-01e41882afb7",
   "metadata": {},
   "outputs": [],
   "source": [
    "import torch"
   ]
  },
  {
   "cell_type": "code",
   "execution_count": 4,
   "id": "9ebe3c18-7176-47cf-abea-53288fc8e6a2",
   "metadata": {},
   "outputs": [
    {
     "data": {
      "text/plain": [
       "True"
      ]
     },
     "execution_count": 4,
     "metadata": {},
     "output_type": "execute_result"
    }
   ],
   "source": [
    "torch.cuda.is_available()"
   ]
  },
  {
   "cell_type": "code",
   "execution_count": 5,
   "id": "94e0b9b1-d20b-4dbd-a2d0-a9d7c0e679aa",
   "metadata": {},
   "outputs": [],
   "source": [
    "from sklearn.feature_extraction.text import CountVectorizer\n",
    "##词袋模型"
   ]
  },
  {
   "cell_type": "code",
   "execution_count": 6,
   "id": "67b587df-7be9-4e61-abe6-959606227756",
   "metadata": {},
   "outputs": [],
   "source": [
    "from sklearn.linear_model import LogisticRegression\n",
    "#回归模型"
   ]
  },
  {
   "cell_type": "code",
   "execution_count": 7,
   "id": "1ce32b1e-92e8-4628-96d8-c5ddea66688f",
   "metadata": {},
   "outputs": [],
   "source": [
    "from warnings import simplefilter\n",
    "from sklearn.exceptions import ConvergenceWarning\n",
    "#过滤警告信息"
   ]
  },
  {
   "cell_type": "code",
   "execution_count": 8,
   "id": "a6acd1f7-21fb-468a-9fdf-199c9e8a1c0f",
   "metadata": {},
   "outputs": [],
   "source": [
    "simplefilter(\"ignore\",category=ConvergenceWarning)"
   ]
  },
  {
   "cell_type": "code",
   "execution_count": 16,
   "id": "1c058758-17c2-44c1-9357-a0da2aad74d5",
   "metadata": {},
   "outputs": [],
   "source": [
    "train=pd.read_csv('./datasets/train.csv',encoding_errors='ignore')"
   ]
  },
  {
   "cell_type": "code",
   "execution_count": 18,
   "id": "818176cf-7147-4087-b0cf-255716af7147",
   "metadata": {},
   "outputs": [
    {
     "data": {
      "text/html": [
       "<div>\n",
       "<style scoped>\n",
       "    .dataframe tbody tr th:only-of-type {\n",
       "        vertical-align: middle;\n",
       "    }\n",
       "\n",
       "    .dataframe tbody tr th {\n",
       "        vertical-align: top;\n",
       "    }\n",
       "\n",
       "    .dataframe thead th {\n",
       "        text-align: right;\n",
       "    }\n",
       "</style>\n",
       "<table border=\"1\" class=\"dataframe\">\n",
       "  <thead>\n",
       "    <tr style=\"text-align: right;\">\n",
       "      <th></th>\n",
       "      <th>uuid</th>\n",
       "      <th>title</th>\n",
       "      <th>author</th>\n",
       "      <th>abstract</th>\n",
       "      <th>Keywords</th>\n",
       "      <th>label</th>\n",
       "    </tr>\n",
       "  </thead>\n",
       "  <tbody>\n",
       "    <tr>\n",
       "      <th>0</th>\n",
       "      <td>0</td>\n",
       "      <td>Accessible Visual Artworks for Blind and Visua...</td>\n",
       "      <td>Quero, Luis Cavazos; Bartolome, Jorge Iranzo; ...</td>\n",
       "      <td>Despite the use of tactile graphics and audio ...</td>\n",
       "      <td>accessibility technology; multimodal interacti...</td>\n",
       "      <td>0</td>\n",
       "    </tr>\n",
       "    <tr>\n",
       "      <th>1</th>\n",
       "      <td>1</td>\n",
       "      <td>Seizure Detection and Prediction by Parallel M...</td>\n",
       "      <td>Li, Chenqi; Lammie, Corey; Dong, Xuening; Amir...</td>\n",
       "      <td>During the past two decades, epileptic seizure...</td>\n",
       "      <td>CNN; Seizure Detection; Seizure Prediction; EE...</td>\n",
       "      <td>1</td>\n",
       "    </tr>\n",
       "    <tr>\n",
       "      <th>2</th>\n",
       "      <td>2</td>\n",
       "      <td>Fast ScanNet: Fast and Dense Analysis of Multi...</td>\n",
       "      <td>Lin, Huangjing; Chen, Hao; Graham, Simon; Dou,...</td>\n",
       "      <td>Lymph node metastasis is one of the most impor...</td>\n",
       "      <td>Histopathology image analysis; computational p...</td>\n",
       "      <td>1</td>\n",
       "    </tr>\n",
       "    <tr>\n",
       "      <th>3</th>\n",
       "      <td>3</td>\n",
       "      <td>Long-Term Effectiveness of Antiretroviral Ther...</td>\n",
       "      <td>Huang, Peng; Tan, Jingguang; Ma, Wenzhe; Zheng...</td>\n",
       "      <td>In order to assess the effectiveness of the Ch...</td>\n",
       "      <td>HIV; ART; mortality; observational cohort stud...</td>\n",
       "      <td>0</td>\n",
       "    </tr>\n",
       "    <tr>\n",
       "      <th>4</th>\n",
       "      <td>4</td>\n",
       "      <td>Real-Time Facial Affective Computing on Mobile...</td>\n",
       "      <td>Guo, Yuanyuan; Xia, Yifan; Wang, Jing; Yu, Hui...</td>\n",
       "      <td>Convolutional Neural Networks (CNNs) have beco...</td>\n",
       "      <td>facial affective computing; convolutional neur...</td>\n",
       "      <td>0</td>\n",
       "    </tr>\n",
       "    <tr>\n",
       "      <th>5</th>\n",
       "      <td>5</td>\n",
       "      <td>A phenotype-based forward genetic screen ident...</td>\n",
       "      <td>Yonghe Ding,Di Lang,Jianhua Yan,Haisong Bu,Hon...</td>\n",
       "      <td>Previously we showed the generation of a prote...</td>\n",
       "      <td>Dnajb6; electrocardiogram; genetic diseases; g...</td>\n",
       "      <td>1</td>\n",
       "    </tr>\n",
       "    <tr>\n",
       "      <th>6</th>\n",
       "      <td>6</td>\n",
       "      <td>ROS System Facial Emotion Detection Using Mach...</td>\n",
       "      <td>Martinez, Javier; Vega, Julio</td>\n",
       "      <td>Facial emotion recognition (FER) is a field of...</td>\n",
       "      <td>ROS; low-cost; raspberry Pi; visual attention;...</td>\n",
       "      <td>0</td>\n",
       "    </tr>\n",
       "    <tr>\n",
       "      <th>7</th>\n",
       "      <td>7</td>\n",
       "      <td>A Novel Machine Learning Approach for Android ...</td>\n",
       "      <td>Odat, Esraa; Yaseen, Qussai M.</td>\n",
       "      <td>This paper proposes a machine learning model b...</td>\n",
       "      <td>Malware; Feature extraction; Machine learning ...</td>\n",
       "      <td>0</td>\n",
       "    </tr>\n",
       "    <tr>\n",
       "      <th>8</th>\n",
       "      <td>8</td>\n",
       "      <td>Universal blind image quality assessment using...</td>\n",
       "      <td>Sang, Qingbing; Wu, Xiaojun; Li, Chaofeng; Lu,...</td>\n",
       "      <td>Most current state-of-the-art blind image qual...</td>\n",
       "      <td>completely blind; image quality assessment; si...</td>\n",
       "      <td>0</td>\n",
       "    </tr>\n",
       "    <tr>\n",
       "      <th>9</th>\n",
       "      <td>9</td>\n",
       "      <td>EndoNet: A Deep Architecture for Recognition T...</td>\n",
       "      <td>Twinanda, Andru P.; Shehata, Sherif; Mutter, D...</td>\n",
       "      <td>Surgical workflow recognition has numerous pot...</td>\n",
       "      <td>Laparoscopic videos; cholecystectomy; convolut...</td>\n",
       "      <td>1</td>\n",
       "    </tr>\n",
       "  </tbody>\n",
       "</table>\n",
       "</div>"
      ],
      "text/plain": [
       "   uuid                                              title  \\\n",
       "0     0  Accessible Visual Artworks for Blind and Visua...   \n",
       "1     1  Seizure Detection and Prediction by Parallel M...   \n",
       "2     2  Fast ScanNet: Fast and Dense Analysis of Multi...   \n",
       "3     3  Long-Term Effectiveness of Antiretroviral Ther...   \n",
       "4     4  Real-Time Facial Affective Computing on Mobile...   \n",
       "5     5  A phenotype-based forward genetic screen ident...   \n",
       "6     6  ROS System Facial Emotion Detection Using Mach...   \n",
       "7     7  A Novel Machine Learning Approach for Android ...   \n",
       "8     8  Universal blind image quality assessment using...   \n",
       "9     9  EndoNet: A Deep Architecture for Recognition T...   \n",
       "\n",
       "                                              author  \\\n",
       "0  Quero, Luis Cavazos; Bartolome, Jorge Iranzo; ...   \n",
       "1  Li, Chenqi; Lammie, Corey; Dong, Xuening; Amir...   \n",
       "2  Lin, Huangjing; Chen, Hao; Graham, Simon; Dou,...   \n",
       "3  Huang, Peng; Tan, Jingguang; Ma, Wenzhe; Zheng...   \n",
       "4  Guo, Yuanyuan; Xia, Yifan; Wang, Jing; Yu, Hui...   \n",
       "5  Yonghe Ding,Di Lang,Jianhua Yan,Haisong Bu,Hon...   \n",
       "6                      Martinez, Javier; Vega, Julio   \n",
       "7                     Odat, Esraa; Yaseen, Qussai M.   \n",
       "8  Sang, Qingbing; Wu, Xiaojun; Li, Chaofeng; Lu,...   \n",
       "9  Twinanda, Andru P.; Shehata, Sherif; Mutter, D...   \n",
       "\n",
       "                                            abstract  \\\n",
       "0  Despite the use of tactile graphics and audio ...   \n",
       "1  During the past two decades, epileptic seizure...   \n",
       "2  Lymph node metastasis is one of the most impor...   \n",
       "3  In order to assess the effectiveness of the Ch...   \n",
       "4  Convolutional Neural Networks (CNNs) have beco...   \n",
       "5  Previously we showed the generation of a prote...   \n",
       "6  Facial emotion recognition (FER) is a field of...   \n",
       "7  This paper proposes a machine learning model b...   \n",
       "8  Most current state-of-the-art blind image qual...   \n",
       "9  Surgical workflow recognition has numerous pot...   \n",
       "\n",
       "                                            Keywords  label  \n",
       "0  accessibility technology; multimodal interacti...      0  \n",
       "1  CNN; Seizure Detection; Seizure Prediction; EE...      1  \n",
       "2  Histopathology image analysis; computational p...      1  \n",
       "3  HIV; ART; mortality; observational cohort stud...      0  \n",
       "4  facial affective computing; convolutional neur...      0  \n",
       "5  Dnajb6; electrocardiogram; genetic diseases; g...      1  \n",
       "6  ROS; low-cost; raspberry Pi; visual attention;...      0  \n",
       "7  Malware; Feature extraction; Machine learning ...      0  \n",
       "8  completely blind; image quality assessment; si...      0  \n",
       "9  Laparoscopic videos; cholecystectomy; convolut...      1  "
      ]
     },
     "execution_count": 18,
     "metadata": {},
     "output_type": "execute_result"
    }
   ],
   "source": [
    "train[:10]"
   ]
  },
  {
   "cell_type": "code",
   "execution_count": 19,
   "id": "393e40e5-a93d-419d-bda2-b3a88eb8eb7f",
   "metadata": {},
   "outputs": [],
   "source": [
    "train['title']=train['title'].fillna('')\n",
    "train['abstract'] = train['abstract'].fillna('')"
   ]
  },
  {
   "cell_type": "code",
   "execution_count": 20,
   "id": "d661701f-72d4-443e-9b05-628cca5562db",
   "metadata": {},
   "outputs": [],
   "source": [
    "test=pd.read_csv('./datasets/test.csv',encoding_errors='ignore')"
   ]
  },
  {
   "cell_type": "code",
   "execution_count": 21,
   "id": "99097f69-052e-4578-832c-8dd146b624f5",
   "metadata": {},
   "outputs": [
    {
     "data": {
      "text/html": [
       "<div>\n",
       "<style scoped>\n",
       "    .dataframe tbody tr th:only-of-type {\n",
       "        vertical-align: middle;\n",
       "    }\n",
       "\n",
       "    .dataframe tbody tr th {\n",
       "        vertical-align: top;\n",
       "    }\n",
       "\n",
       "    .dataframe thead th {\n",
       "        text-align: right;\n",
       "    }\n",
       "</style>\n",
       "<table border=\"1\" class=\"dataframe\">\n",
       "  <thead>\n",
       "    <tr style=\"text-align: right;\">\n",
       "      <th></th>\n",
       "      <th>uuid</th>\n",
       "      <th>title</th>\n",
       "      <th>author</th>\n",
       "      <th>abstract</th>\n",
       "      <th>Keywords</th>\n",
       "    </tr>\n",
       "  </thead>\n",
       "  <tbody>\n",
       "    <tr>\n",
       "      <th>0</th>\n",
       "      <td>0</td>\n",
       "      <td>Monitoring Changes in Intracellular Reactive O...</td>\n",
       "      <td>Al-Hassan M Mustafa,Ramy Ashry,Oliver H Krämer...</td>\n",
       "      <td>Reactive oxygen species (ROS) are induced by s...</td>\n",
       "      <td>Flow cytometry; HDACi; Leukemia; ROS.</td>\n",
       "    </tr>\n",
       "    <tr>\n",
       "      <th>1</th>\n",
       "      <td>1</td>\n",
       "      <td>Source Printer Classification Using Printer Sp...</td>\n",
       "      <td>Joshi, Sharad; Khanna, Nitin</td>\n",
       "      <td>The knowledge of the source printer can help i...</td>\n",
       "      <td>Printer classification; local texture patterns...</td>\n",
       "    </tr>\n",
       "    <tr>\n",
       "      <th>2</th>\n",
       "      <td>2</td>\n",
       "      <td>Plasma-processed CoSn/RGO nanocomposite: A low...</td>\n",
       "      <td>Omelianovych, Oleksii; Larina, Liudmila L.; Oh...</td>\n",
       "      <td>The high cost of state-of-the-art Pt counter e...</td>\n",
       "      <td>Plasma reduction; Bimatalic alloy CoxSn1-x; Re...</td>\n",
       "    </tr>\n",
       "    <tr>\n",
       "      <th>3</th>\n",
       "      <td>3</td>\n",
       "      <td>Immediate Antiretroviral Therapy: The Need for...</td>\n",
       "      <td>Mgbako, Ofole; E. Sobieszczyk, Magdalena; Olen...</td>\n",
       "      <td>Immediate antiretroviral therapy (iART), defin...</td>\n",
       "      <td>HIV; antiretroviral therapy; rapid; health equity</td>\n",
       "    </tr>\n",
       "    <tr>\n",
       "      <th>4</th>\n",
       "      <td>4</td>\n",
       "      <td>Design and analysis of an ultra-low-power LC q...</td>\n",
       "      <td>Lee, Kin Keung; Bryant, Carl; Tormanen, Markus...</td>\n",
       "      <td>This paper presents the design of an ultra-low...</td>\n",
       "      <td>Varactor; Spiral inductor; Quadrature generati...</td>\n",
       "    </tr>\n",
       "  </tbody>\n",
       "</table>\n",
       "</div>"
      ],
      "text/plain": [
       "   uuid                                              title  \\\n",
       "0     0  Monitoring Changes in Intracellular Reactive O...   \n",
       "1     1  Source Printer Classification Using Printer Sp...   \n",
       "2     2  Plasma-processed CoSn/RGO nanocomposite: A low...   \n",
       "3     3  Immediate Antiretroviral Therapy: The Need for...   \n",
       "4     4  Design and analysis of an ultra-low-power LC q...   \n",
       "\n",
       "                                              author  \\\n",
       "0  Al-Hassan M Mustafa,Ramy Ashry,Oliver H Krämer...   \n",
       "1                       Joshi, Sharad; Khanna, Nitin   \n",
       "2  Omelianovych, Oleksii; Larina, Liudmila L.; Oh...   \n",
       "3  Mgbako, Ofole; E. Sobieszczyk, Magdalena; Olen...   \n",
       "4  Lee, Kin Keung; Bryant, Carl; Tormanen, Markus...   \n",
       "\n",
       "                                            abstract  \\\n",
       "0  Reactive oxygen species (ROS) are induced by s...   \n",
       "1  The knowledge of the source printer can help i...   \n",
       "2  The high cost of state-of-the-art Pt counter e...   \n",
       "3  Immediate antiretroviral therapy (iART), defin...   \n",
       "4  This paper presents the design of an ultra-low...   \n",
       "\n",
       "                                            Keywords  \n",
       "0              Flow cytometry; HDACi; Leukemia; ROS.  \n",
       "1  Printer classification; local texture patterns...  \n",
       "2  Plasma reduction; Bimatalic alloy CoxSn1-x; Re...  \n",
       "3  HIV; antiretroviral therapy; rapid; health equity  \n",
       "4  Varactor; Spiral inductor; Quadrature generati...  "
      ]
     },
     "execution_count": 21,
     "metadata": {},
     "output_type": "execute_result"
    }
   ],
   "source": [
    "test[:5]"
   ]
  },
  {
   "cell_type": "code",
   "execution_count": 22,
   "id": "52eaaa99-0e67-4a21-80cc-3d7b28da8c0a",
   "metadata": {},
   "outputs": [],
   "source": [
    "test['title'] = test['title'].fillna('')\n",
    "test['abstract'] = test['abstract'].fillna('')"
   ]
  },
  {
   "cell_type": "code",
   "execution_count": 38,
   "id": "ca445bd1-0ea2-43f9-81fd-ed3893332ea4",
   "metadata": {},
   "outputs": [],
   "source": [
    "train['text']=train['title'].fillna('')+' '+train['author'].fillna('')+' '+train['abstract'].fillna('')+' '+train['Keywords'].fillna('')\n",
    "test['text'] = test['title'].fillna('') + ' ' +  test['author'].fillna('') + ' ' + test['abstract'].fillna('')+ ' ' + train['Keywords'].fillna('')"
   ]
  },
  {
   "cell_type": "code",
   "execution_count": 39,
   "id": "72b06890-9260-40f5-a238-c246f3934c11",
   "metadata": {},
   "outputs": [
    {
     "data": {
      "text/plain": [
       "(0    Accessible Visual Artworks for Blind and Visua...\n",
       " 1    Seizure Detection and Prediction by Parallel M...\n",
       " 2    Fast ScanNet: Fast and Dense Analysis of Multi...\n",
       " 3    Long-Term Effectiveness of Antiretroviral Ther...\n",
       " 4    Real-Time Facial Affective Computing on Mobile...\n",
       " 5    A phenotype-based forward genetic screen ident...\n",
       " 6    ROS System Facial Emotion Detection Using Mach...\n",
       " 7    A Novel Machine Learning Approach for Android ...\n",
       " 8    Universal blind image quality assessment using...\n",
       " 9    EndoNet: A Deep Architecture for Recognition T...\n",
       " Name: text, dtype: object,\n",
       " 0    Monitoring Changes in Intracellular Reactive O...\n",
       " 1    Source Printer Classification Using Printer Sp...\n",
       " 2    Plasma-processed CoSn/RGO nanocomposite: A low...\n",
       " 3    Immediate Antiretroviral Therapy: The Need for...\n",
       " 4    Design and analysis of an ultra-low-power LC q...\n",
       " 5    A Design Space Exploration Framework for Convo...\n",
       " 6    ESKAPE Act Plus: Pathway Activation Analysis f...\n",
       " 7    Three-Dimensional Covalent Organic Framework w...\n",
       " 8    Objective Detection of Eloquent Axonal Pathway...\n",
       " 9    MILP Optimized Management of Domestic PV-Batte...\n",
       " Name: text, dtype: object)"
      ]
     },
     "execution_count": 39,
     "metadata": {},
     "output_type": "execute_result"
    }
   ],
   "source": [
    "train['text'][:10],test['text'][:10]"
   ]
  },
  {
   "cell_type": "code",
   "execution_count": 40,
   "id": "a69d291c-ad7a-4fb4-add8-0793988bbaa7",
   "metadata": {},
   "outputs": [],
   "source": [
    "vector=CountVectorizer().fit(train['text'])\n",
    "# 从train数据集中获得词表\n",
    "train_vector=vector.transform(train['text'])\n",
    "test_vector=vector.transform(test['text'])"
   ]
  },
  {
   "cell_type": "code",
   "execution_count": 41,
   "id": "d8943169-afe4-4b45-b32e-08a09b9af697",
   "metadata": {},
   "outputs": [
    {
     "data": {
      "text/plain": [
       "<5x67851 sparse matrix of type '<class 'numpy.int64'>'\n",
       "\twith 766 stored elements in Compressed Sparse Row format>"
      ]
     },
     "execution_count": 41,
     "metadata": {},
     "output_type": "execute_result"
    }
   ],
   "source": [
    "train_vector[:5]\n",
    "#单词表长度67851"
   ]
  },
  {
   "cell_type": "code",
   "execution_count": 43,
   "id": "8b8c867d-99e4-41cd-8c3d-c492edb253af",
   "metadata": {},
   "outputs": [],
   "source": [
    "md=LogisticRegression()\n",
    "md.fit(train_vector,train['label'])\n",
    "test['label']=md.predict(test_vector)"
   ]
  },
  {
   "cell_type": "code",
   "execution_count": 45,
   "id": "f01eb701-ba46-4752-b42f-a206fbfc1c96",
   "metadata": {},
   "outputs": [
    {
     "data": {
      "text/plain": [
       "0    1\n",
       "1    0\n",
       "2    0\n",
       "3    0\n",
       "4    0\n",
       "5    0\n",
       "6    1\n",
       "7    1\n",
       "8    1\n",
       "9    0\n",
       "Name: label, dtype: int64"
      ]
     },
     "execution_count": 45,
     "metadata": {},
     "output_type": "execute_result"
    }
   ],
   "source": [
    "test['label'][:10]"
   ]
  },
  {
   "cell_type": "code",
   "execution_count": 46,
   "id": "8dcde152-1d07-4d1f-bdb3-758da6cad90b",
   "metadata": {},
   "outputs": [],
   "source": [
    "test[['uuid','Keywords','label']].to_csv('submit_task1.csv',index=None)"
   ]
  },
  {
   "cell_type": "code",
   "execution_count": null,
   "id": "8844435d-9986-45b9-b485-71a72aa744dd",
   "metadata": {},
   "outputs": [],
   "source": []
  }
 ],
 "metadata": {
  "kernelspec": {
   "display_name": "Python 3 (ipykernel)",
   "language": "python",
   "name": "python3"
  },
  "language_info": {
   "codemirror_mode": {
    "name": "ipython",
    "version": 3
   },
   "file_extension": ".py",
   "mimetype": "text/x-python",
   "name": "python",
   "nbconvert_exporter": "python",
   "pygments_lexer": "ipython3",
   "version": "3.10.12"
  }
 },
 "nbformat": 4,
 "nbformat_minor": 5
}
